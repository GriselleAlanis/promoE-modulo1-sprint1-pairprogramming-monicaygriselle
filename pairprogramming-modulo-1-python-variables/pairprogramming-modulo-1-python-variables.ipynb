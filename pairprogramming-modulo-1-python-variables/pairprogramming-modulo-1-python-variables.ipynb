{
 "cells": [
  {
   "attachments": {},
   "cell_type": "markdown",
   "metadata": {},
   "source": [
    "Cread tres variables numéricas de tipo integer (entero) y utilizando los operadores lógicos:\n",
    "Es el numero1 mayor que el numero2.\n",
    "Es el numero1 menor que el numero2 pero mayor que el numero3.\n",
    "Es el numero3 igual que el numero2.\n",
    "Es el numero2 distinto que el numero1."
   ]
  },
  {
   "cell_type": "code",
   "execution_count": 1,
   "metadata": {},
   "outputs": [
    {
     "name": "stdout",
     "output_type": "stream",
     "text": [
      "True\n",
      "False\n",
      "False\n",
      "True\n"
     ]
    }
   ],
   "source": [
    "numero1 = 27\n",
    "numero2 = 14\n",
    "numero3 = 7\n",
    "\n",
    "print(numero1 > numero2)\n",
    "print( numero3 < numero1 < numero2 )\n",
    "print(numero3 == numero2)\n",
    "print(numero2 != numero1)"
   ]
  },
  {
   "attachments": {},
   "cell_type": "markdown",
   "metadata": {},
   "source": [
    "Cread dos variables numéricas de tipo float (decimal) con dos decimales y utilizando los operadores matemáticos aprendidos en la lección:\n",
    "Cuál es la suma de las dos alturas.\n",
    "Cuál es la diferencia entre las alturas.\n",
    "Cuál es el resto de la división de las dos alturas.\n",
    "Cuál es resultado de la división de las dos alturas, redondead el resultado a un decimal."
   ]
  },
  {
   "cell_type": "code",
   "execution_count": 18,
   "metadata": {},
   "outputs": [
    {
     "name": "stdout",
     "output_type": "stream",
     "text": [
      "24.2\n",
      "12.8\n",
      "1.3999999999999995\n",
      "1.9\n"
     ]
    }
   ],
   "source": [
    "altura1 = 18.5\n",
    "altura2 = 5.7\n",
    "\n",
    "print(altura1 + altura2)\n",
    "print(altura1 - altura2)\n",
    "print(altura1 % altura2)\n",
    "print(round(numero1 / numero2, 1))"
   ]
  },
  {
   "attachments": {},
   "cell_type": "markdown",
   "metadata": {},
   "source": [
    "Escribid un programa usando la función input() que le pregunte al usuario su nombre y apellidos. Una vez que tengamos el nombre del usuario:\n",
    "Printead su nombre y apellidos todo en mayúsculas.\n",
    "Printead su nombre y apellidos todo en minúsculas.\n",
    "Printead su nombre y apellidos con la primera letra del nombre y los apellidos en mayúscula y el resto en minúscula.\n",
    "Printeas solo la primera letra del nombre en mayúscula."
   ]
  },
  {
   "cell_type": "code",
   "execution_count": 19,
   "metadata": {},
   "outputs": [
    {
     "name": "stdout",
     "output_type": "stream",
     "text": [
      "Tu nombre en mayúsculas es MÓNICA SERRANO LORENZO\n",
      "Tu nombre en minúscula es mónica serrano lorenzo\n",
      "Tu nombre con la primera en mayúscula es Mónica Serrano lorenzo\n",
      "Tu nombre con solo la primera letra del nombre en mayúscula es Mónica serrano lorenzo\n"
     ]
    }
   ],
   "source": [
    "nombre = input(\"Escriba su nombre\")\n",
    "apellidos = input(\"Escriba sus apellidos\")\n",
    "\n",
    "nombremayus = nombre.upper()\n",
    "apellidosmayus = apellidos.upper()\n",
    "print(\"Tu nombre en mayúsculas es\", nombremayus, apellidosmayus)\n",
    "\n",
    "nombreminus = nombre.lower()\n",
    "apellidosminus = apellidos.lower()\n",
    "print(\"Tu nombre en minúscula es\", nombreminus, apellidosminus)\n",
    "\n",
    "nombrecap = nombre.capitalize()\n",
    "apellidoscap = apellidos.capitalize()\n",
    "print(\"Tu nombre con la primera en mayúscula es\", nombrecap, apellidoscap)\n",
    "\n",
    "print(\"Tu nombre con solo la primera letra del nombre en mayúscula es\", nombrecap, apellidosminus)"
   ]
  },
  {
   "attachments": {},
   "cell_type": "markdown",
   "metadata": {},
   "source": [
    "Escribid un programa usando la función input() que:\n",
    "Le pregunte al usuario por una frase, almacenad este resultado en una variable.\n",
    "Le pregunte al usuario por una vocal, almacenad este resultado en una variable.\n",
    "Printead la misma frase pero con la vocal introducida en mayúsulas."
   ]
  },
  {
   "cell_type": "code",
   "execution_count": 23,
   "metadata": {},
   "outputs": [
    {
     "name": "stdout",
     "output_type": "stream",
     "text": [
      "Tu frase es hola y tu vocal en mayúsucula es A\n"
     ]
    }
   ],
   "source": [
    "frase = input(\"Escribe una frase\")\n",
    "\n",
    "vocal = input(\"Escribe una vocal\")\n",
    "\n",
    "vocal = vocal.replace(vocal, vocal.upper())\n",
    "\n",
    "print(\"Tu frase es\", frase, \"y tu vocal en mayúsucula es\", vocal)\n"
   ]
  },
  {
   "attachments": {},
   "cell_type": "markdown",
   "metadata": {},
   "source": [
    "Escribid un programa usando la función input() que:\n",
    "Le pregunte al usuario por la lista de la compra, separando cada elemento por comas.\n",
    "Devolved la lista de compra donde veamos cada elemento en una línea."
   ]
  },
  {
   "cell_type": "code",
   "execution_count": 2,
   "metadata": {},
   "outputs": [
    {
     "name": "stdout",
     "output_type": "stream",
     "text": [
      "cebollas, patatas, carne\n"
     ]
    }
   ],
   "source": [
    "listacompra = input(\"Introduce tu lista de la compra\")\n",
    "print(listacompra)"
   ]
  }
 ],
 "metadata": {
  "kernelspec": {
   "display_name": "base",
   "language": "python",
   "name": "python3"
  },
  "language_info": {
   "codemirror_mode": {
    "name": "ipython",
    "version": 3
   },
   "file_extension": ".py",
   "mimetype": "text/x-python",
   "name": "python",
   "nbconvert_exporter": "python",
   "pygments_lexer": "ipython3",
   "version": "3.9.7"
  },
  "orig_nbformat": 4
 },
 "nbformat": 4,
 "nbformat_minor": 2
}
