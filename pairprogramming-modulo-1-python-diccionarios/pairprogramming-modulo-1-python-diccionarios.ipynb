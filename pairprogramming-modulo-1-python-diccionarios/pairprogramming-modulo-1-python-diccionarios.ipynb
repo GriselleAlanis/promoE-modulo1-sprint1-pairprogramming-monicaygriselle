{
 "cells": [
  {
   "attachments": {},
   "cell_type": "markdown",
   "metadata": {},
   "source": [
    "Cread un input que pregunte a la usuaria por tres nombres."
   ]
  },
  {
   "cell_type": "code",
   "execution_count": 40,
   "metadata": {},
   "outputs": [
    {
     "name": "stdout",
     "output_type": "stream",
     "text": [
      "['monica', ' pepi', ' jorge']\n"
     ]
    }
   ],
   "source": [
    "nombresusuario = input()\n",
    "nombres = nombresusuario.split(\",\")\n",
    "print(nombres)\n"
   ]
  },
  {
   "attachments": {},
   "cell_type": "markdown",
   "metadata": {},
   "source": [
    "Cread un input que pregunte a la usuaria por tres apellidos."
   ]
  },
  {
   "cell_type": "code",
   "execution_count": 41,
   "metadata": {},
   "outputs": [
    {
     "name": "stdout",
     "output_type": "stream",
     "text": [
      "['serrano', ' lorenzo', ' lopez']\n"
     ]
    }
   ],
   "source": [
    "apellidosusuario = input()\n",
    "apellidos = apellidosusuario.split(\",\")\n",
    "print(apellidos)"
   ]
  },
  {
   "attachments": {},
   "cell_type": "markdown",
   "metadata": {},
   "source": [
    "Cread un input que pregunte a la usuaria por tres edades. "
   ]
  },
  {
   "cell_type": "code",
   "execution_count": 28,
   "metadata": {},
   "outputs": [
    {
     "name": "stdout",
     "output_type": "stream",
     "text": [
      "[25, 52, 28]\n"
     ]
    }
   ],
   "source": [
    "edadesusuario = input()\n",
    "edades = edadesusuario.split(\",\")\n",
    "edades = [int(i) for i in edades]\n",
    "print(edades)"
   ]
  },
  {
   "attachments": {},
   "cell_type": "markdown",
   "metadata": {},
   "source": [
    "Cread un input que pregunte a la usuaria por el número de hijos. "
   ]
  },
  {
   "cell_type": "code",
   "execution_count": null,
   "metadata": {},
   "outputs": [
    {
     "name": "stdout",
     "output_type": "stream",
     "text": [
      "[0, 1, 0]\n"
     ]
    }
   ],
   "source": [
    "hijosusuario = input()\n",
    "hijos = hijosusuario.split(\",\")\n",
    "hijos = [int(i) for i in hijos]\n",
    "print(hijos)"
   ]
  },
  {
   "attachments": {},
   "cell_type": "markdown",
   "metadata": {},
   "source": [
    "Cread un diccionario con los resultados del input. "
   ]
  },
  {
   "cell_type": "code",
   "execution_count": null,
   "metadata": {},
   "outputs": [
    {
     "name": "stdout",
     "output_type": "stream",
     "text": [
      "{'nombres': ['monica', ' pepi', ' jorge'], 'apellidos': ['serrano', ' lorenzo', ' lopez'], 'edades': [26, 52, 28], 'hijos': [0, 1, 0]}\n"
     ]
    }
   ],
   "source": [
    "diccionario = {'nombres' : nombres, \n",
    "               'apellidos' : apellidos, \n",
    "               'edades' : edades, \n",
    "               'hijos' : hijos}\n",
    "print(diccionario)"
   ]
  },
  {
   "attachments": {},
   "cell_type": "markdown",
   "metadata": {},
   "source": [
    "Una vez tengáis creado el diccionario, añadid una nueva key donde tengamos la información sobre el número de hermanos."
   ]
  },
  {
   "cell_type": "code",
   "execution_count": null,
   "metadata": {},
   "outputs": [
    {
     "name": "stdout",
     "output_type": "stream",
     "text": [
      "{'nombres': ['monica', ' pepi', ' jorge'], 'apellidos': ['serrano', ' lorenzo', ' lopez'], 'edades': [26, 52, 28], 'hijos': [0, 1, 0], 'hermanos': [0, 1, 1]}\n"
     ]
    }
   ],
   "source": [
    "hermanos = [0, 1, 1]\n",
    "diccionario['hermanos'] = hermanos\n",
    "print(diccionario)"
   ]
  },
  {
   "attachments": {},
   "cell_type": "markdown",
   "metadata": {},
   "source": [
    "\n",
    "¿Cúales son las keys de nuestro diccionario? ¿Y los values?"
   ]
  },
  {
   "cell_type": "code",
   "execution_count": 15,
   "metadata": {},
   "outputs": [
    {
     "name": "stdout",
     "output_type": "stream",
     "text": [
      "dict_keys(['nombres', 'apellidos', 'edades', 'hijos', 'hermanos'])\n",
      "dict_values([['monica', ' pepi', ' jorge'], ['serrano', ' lorenzo', ' lopez'], [26, 52, 28], [0, 1, 0], [0, 1, 1]])\n"
     ]
    }
   ],
   "source": [
    "print(diccionario.keys())\n",
    "print(diccionario.values())"
   ]
  },
  {
   "attachments": {},
   "cell_type": "markdown",
   "metadata": {},
   "source": [
    "Extraed los valores de la key nombres. Utilizad dos métodos diferentes."
   ]
  },
  {
   "cell_type": "code",
   "execution_count": null,
   "metadata": {},
   "outputs": [
    {
     "name": "stdout",
     "output_type": "stream",
     "text": [
      "['monica', ' pepi', ' jorge']\n",
      "['monica', ' pepi', ' jorge']\n"
     ]
    }
   ],
   "source": [
    "print(diccionario['nombres'])\n",
    "print(diccionario.get('nombres'))"
   ]
  },
  {
   "attachments": {},
   "cell_type": "markdown",
   "metadata": {},
   "source": [
    "Extraed los valores de la key nacionalidad. En caso de que no exista, cread esa key con el value \"desconocida\"."
   ]
  },
  {
   "cell_type": "code",
   "execution_count": 23,
   "metadata": {},
   "outputs": [
    {
     "name": "stdout",
     "output_type": "stream",
     "text": [
      "desconocida\n",
      "{'nombres': ['monica', ' pepi', ' jorge'], 'apellidos': ['serrano', ' lorenzo', ' lopez'], 'edades': [26, 52, 28], 'hijos': [0, 1, 0], 'hermanos': [0, 1, 1], 'nacionalidad': 'desconocida'}\n"
     ]
    }
   ],
   "source": [
    "diccionario.setdefault('nacionalidad', 'desconocida')\n",
    "print(diccionario)"
   ]
  },
  {
   "attachments": {},
   "cell_type": "markdown",
   "metadata": {},
   "source": [
    "Ordena los elementos del diccionario basándonos en las keys y los values. "
   ]
  },
  {
   "cell_type": "code",
   "execution_count": 24,
   "metadata": {},
   "outputs": [
    {
     "name": "stdout",
     "output_type": "stream",
     "text": [
      "[('apellidos', ['serrano', ' lorenzo', ' lopez']), ('edades', [26, 52, 28]), ('hermanos', [0, 1, 1]), ('hijos', [0, 1, 0]), ('nacionalidad', 'desconocida'), ('nombres', ['monica', ' pepi', ' jorge'])]\n"
     ]
    }
   ],
   "source": [
    "diccionario2 = dict(sorted(diccionario.items()))"
   ]
  },
  {
   "attachments": {},
   "cell_type": "markdown",
   "metadata": {},
   "source": [
    "Eliminad la key de \"nacionalidad\""
   ]
  },
  {
   "cell_type": "code",
   "execution_count": 25,
   "metadata": {},
   "outputs": [
    {
     "name": "stdout",
     "output_type": "stream",
     "text": [
      "{'nombres': ['monica', ' pepi', ' jorge'], 'apellidos': ['serrano', ' lorenzo', ' lopez'], 'edades': [26, 52, 28], 'hijos': [0, 1, 0], 'hermanos': [0, 1, 1]}\n"
     ]
    }
   ],
   "source": [
    "diccionario.pop('nacionalidad')\n",
    "print(diccionario)"
   ]
  },
  {
   "attachments": {},
   "cell_type": "markdown",
   "metadata": {},
   "source": [
    "¿Qué persona tiene mayor número de hijos? ¿Y quién es la más joven?"
   ]
  },
  {
   "cell_type": "code",
   "execution_count": 43,
   "metadata": {},
   "outputs": [
    {
     "name": "stdout",
     "output_type": "stream",
     "text": [
      " pepi\n",
      "monica\n"
     ]
    }
   ],
   "source": [
    "hijosmax = max(hijos)\n",
    "posicionhijosmax = hijos.index(hijosmax)\n",
    "print(nombres[posicionhijosmax])\n",
    "\n",
    "edadmin = min(edades)\n",
    "posicionedadmin = edades.index(edadmin)\n",
    "print(nombres[posicionedadmin])"
   ]
  }
 ],
 "metadata": {
  "kernelspec": {
   "display_name": "base",
   "language": "python",
   "name": "python3"
  },
  "language_info": {
   "codemirror_mode": {
    "name": "ipython",
    "version": 3
   },
   "file_extension": ".py",
   "mimetype": "text/x-python",
   "name": "python",
   "nbconvert_exporter": "python",
   "pygments_lexer": "ipython3",
   "version": "3.9.7"
  },
  "orig_nbformat": 4
 },
 "nbformat": 4,
 "nbformat_minor": 2
}
