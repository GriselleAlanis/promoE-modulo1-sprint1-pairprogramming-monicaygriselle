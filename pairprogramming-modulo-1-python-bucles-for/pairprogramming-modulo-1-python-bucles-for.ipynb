{
 "cells": [
  {
   "attachments": {},
   "cell_type": "markdown",
   "metadata": {},
   "source": [
    "Escribid un programa que pregunte al usuario una cantidad a invertir, el interés anual y el número de años, y muestre por pantalla el capital obtenido en la inversión cada año que dura la inversión."
   ]
  },
  {
   "cell_type": "code",
   "execution_count": 3,
   "metadata": {},
   "outputs": [],
   "source": [
    "capital = float(input(\"Escribe el capital a invertir\"))\n",
    "interes = float(input(\"Escribe el interes\"))\n",
    "años = int(input(\"Escribe el numero de años\"))"
   ]
  },
  {
   "cell_type": "code",
   "execution_count": 4,
   "metadata": {},
   "outputs": [
    {
     "name": "stdout",
     "output_type": "stream",
     "text": [
      "El capital obtenido en la inversión del año 1 es 40.0\n",
      "El capital obtenido en la inversión del año 2 es 80.0\n",
      "El capital obtenido en la inversión del año 3 es 120.0\n",
      "El capital obtenido en la inversión del año 4 es 160.0\n",
      "El capital obtenido en la inversión del año 5 es 200.0\n",
      "El capital obtenido en la inversión del año 6 es 240.0\n"
     ]
    }
   ],
   "source": [
    "for año in range(1, años+1):\n",
    "    print(\"El capital obtenido en la inversión del año\", año,\"es\",(capital*(interes/100)*año))"
   ]
  },
  {
   "attachments": {},
   "cell_type": "markdown",
   "metadata": {},
   "source": [
    "Escribid un programa en el que se pregunte al usuario por una frase y una letra, y muestre por pantalla el número de veces que aparece la letra en la frase."
   ]
  },
  {
   "cell_type": "code",
   "execution_count": 1,
   "metadata": {},
   "outputs": [
    {
     "name": "stdout",
     "output_type": "stream",
     "text": [
      "Hola buenos dias\n",
      "a\n"
     ]
    }
   ],
   "source": [
    "frase = input()\n",
    "letra = input()\n",
    "\n",
    "print(frase)\n",
    "print(letra)"
   ]
  },
  {
   "cell_type": "code",
   "execution_count": 2,
   "metadata": {},
   "outputs": [
    {
     "name": "stdout",
     "output_type": "stream",
     "text": [
      "2\n"
     ]
    }
   ],
   "source": [
    "letra_2 = 0\n",
    "for i in frase:\n",
    "    if i == letra:\n",
    "        letra_2 += 1\n",
    "\n",
    "print(letra_2)"
   ]
  },
  {
   "attachments": {},
   "cell_type": "markdown",
   "metadata": {},
   "source": [
    "Escribid un programa que nos devuelva la tabla de multiplicar de un número especificado en una función input"
   ]
  },
  {
   "cell_type": "code",
   "execution_count": 3,
   "metadata": {},
   "outputs": [
    {
     "name": "stdout",
     "output_type": "stream",
     "text": [
      "La multiplicacion de  6 por 0 es 0\n",
      "La multiplicacion de  6 por 1 es 6\n",
      "La multiplicacion de  6 por 2 es 12\n",
      "La multiplicacion de  6 por 3 es 18\n",
      "La multiplicacion de  6 por 4 es 24\n",
      "La multiplicacion de  6 por 5 es 30\n",
      "La multiplicacion de  6 por 6 es 36\n",
      "La multiplicacion de  6 por 7 es 42\n",
      "La multiplicacion de  6 por 8 es 48\n",
      "La multiplicacion de  6 por 9 es 54\n",
      "La multiplicacion de  6 por 10 es 60\n"
     ]
    }
   ],
   "source": [
    "numero = int(input())\n",
    "\n",
    "for i in range(11):\n",
    "    print(\"La multiplicacion de \",numero, \"por\",i, \"es\",numero * i)"
   ]
  },
  {
   "attachments": {},
   "cell_type": "markdown",
   "metadata": {},
   "source": [
    "Escribid un programa que muestre sólo los números de una lista que cumplan las siguientes condiciones"
   ]
  },
  {
   "cell_type": "code",
   "execution_count": 2,
   "metadata": {},
   "outputs": [],
   "source": [
    "numbers = [12, 75, 150, 180, 145, 525, 50]"
   ]
  },
  {
   "attachments": {},
   "cell_type": "markdown",
   "metadata": {},
   "source": [
    "El número debe ser divisible entre cinco"
   ]
  },
  {
   "cell_type": "code",
   "execution_count": 12,
   "metadata": {},
   "outputs": [
    {
     "name": "stdout",
     "output_type": "stream",
     "text": [
      "75\n",
      "150\n",
      "180\n",
      "145\n",
      "525\n",
      "50\n"
     ]
    }
   ],
   "source": [
    "for i in numbers:\n",
    "    if i%5 == 0:\n",
    "        print(i)"
   ]
  },
  {
   "attachments": {},
   "cell_type": "markdown",
   "metadata": {},
   "source": [
    "Si el número es mayor que 150, se salta y se pasa al siguiente número"
   ]
  },
  {
   "cell_type": "code",
   "execution_count": 15,
   "metadata": {},
   "outputs": [
    {
     "name": "stdout",
     "output_type": "stream",
     "text": [
      "12\n",
      "75\n",
      "150\n",
      "145\n",
      "50\n"
     ]
    }
   ],
   "source": [
    "for i in numbers:\n",
    "    if i > 150:\n",
    "        continue\n",
    "    print(i)\n",
    "    "
   ]
  },
  {
   "attachments": {},
   "cell_type": "markdown",
   "metadata": {},
   "source": [
    "Si el número es mayor que 500, entonces detenga el bucle"
   ]
  },
  {
   "cell_type": "code",
   "execution_count": 3,
   "metadata": {},
   "outputs": [
    {
     "name": "stdout",
     "output_type": "stream",
     "text": [
      "12\n",
      "75\n",
      "150\n",
      "180\n",
      "145\n"
     ]
    }
   ],
   "source": [
    "for i in numbers:\n",
    "    if i < 500:\n",
    "        print(i)\n",
    "    else:\n",
    "        break"
   ]
  },
  {
   "attachments": {},
   "cell_type": "markdown",
   "metadata": {},
   "source": [
    "Todo junto:"
   ]
  },
  {
   "cell_type": "code",
   "execution_count": 5,
   "metadata": {},
   "outputs": [
    {
     "name": "stdout",
     "output_type": "stream",
     "text": [
      "75\n",
      "150\n",
      "145\n"
     ]
    }
   ],
   "source": [
    "for i in numbers:\n",
    "    if i > 500:\n",
    "        break\n",
    "    elif i > 150:\n",
    "        continue\n",
    "    elif i%5 == 0:\n",
    "        print(i)"
   ]
  },
  {
   "attachments": {},
   "cell_type": "markdown",
   "metadata": {},
   "source": [
    "Imprimir la lista en orden inverso"
   ]
  },
  {
   "cell_type": "code",
   "execution_count": 11,
   "metadata": {},
   "outputs": [
    {
     "name": "stdout",
     "output_type": "stream",
     "text": [
      "[50, 40, 30, 20, 10]\n"
     ]
    }
   ],
   "source": [
    "list1 = [10, 20, 30, 40, 50]\n",
    "lista_inversa = []\n",
    "\n",
    "for i in list1:\n",
    "    lista_inversa.insert(0,i)\n",
    "\n",
    "print(lista_inversa)"
   ]
  },
  {
   "attachments": {},
   "cell_type": "markdown",
   "metadata": {},
   "source": [
    "Usando un try ... except, cread un programa para evitar que nos de un error el código anterior. En su lugar, si se encuentra un error, deberéis poner el código necesario para que no nos devuelva error."
   ]
  },
  {
   "cell_type": "code",
   "execution_count": 16,
   "metadata": {},
   "outputs": [
    {
     "name": "stdout",
     "output_type": "stream",
     "text": [
      "1\n",
      "4\n",
      "9\n"
     ]
    }
   ],
   "source": [
    "for i in ['1','2','3']:\n",
    "    try:\n",
    "        print (i**2)\n",
    "    except:\n",
    "        print(int(i)**2)"
   ]
  }
 ],
 "metadata": {
  "kernelspec": {
   "display_name": "base",
   "language": "python",
   "name": "python3"
  },
  "language_info": {
   "codemirror_mode": {
    "name": "ipython",
    "version": 3
   },
   "file_extension": ".py",
   "mimetype": "text/x-python",
   "name": "python",
   "nbconvert_exporter": "python",
   "pygments_lexer": "ipython3",
   "version": "3.9.7"
  },
  "orig_nbformat": 4
 },
 "nbformat": 4,
 "nbformat_minor": 2
}
