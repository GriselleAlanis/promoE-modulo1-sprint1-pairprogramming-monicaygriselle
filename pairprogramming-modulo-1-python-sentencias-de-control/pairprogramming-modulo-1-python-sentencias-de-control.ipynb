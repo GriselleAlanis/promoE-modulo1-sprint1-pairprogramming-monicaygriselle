{
 "cells": [
  {
   "attachments": {},
   "cell_type": "markdown",
   "metadata": {},
   "source": [
    "El objetivo de este ejercicio es que le preguntéis al usuario por una nota (numérica) y nosotros le devolvamos la nota con la letra que le corresponde."
   ]
  },
  {
   "cell_type": "code",
   "execution_count": 2,
   "metadata": {},
   "outputs": [
    {
     "name": "stdout",
     "output_type": "stream",
     "text": [
      "Tu nota es C\n"
     ]
    }
   ],
   "source": [
    "nota = int(input(\"Escribe tu nota\"))\n",
    "\n",
    "if nota < 25:\n",
    "    print(\"Tu nota es F\")\n",
    "elif nota < 45:\n",
    "    print(\"Tu nota es E\")\n",
    "elif nota < 50:\n",
    "    print(\"Tu nota es D\")\n",
    "elif nota < 60:\n",
    "    print(\"Tu nota es C\")\n",
    "elif nota < 80:\n",
    "    print(\"Tu nota es B\")\n",
    "else:\n",
    "    print(\"Tu nota es A\")"
   ]
  },
  {
   "attachments": {},
   "cell_type": "markdown",
   "metadata": {},
   "source": [
    "Cread tres inputs donde a cada uno de ellos le preguntéis su edad, el objetivo del ejercicio es determinar quien es el más viejo y el más joven."
   ]
  },
  {
   "cell_type": "code",
   "execution_count": 11,
   "metadata": {},
   "outputs": [],
   "source": [
    "datos_usuario_1 = int(input(\"Escribe tu edad\"))\n",
    "datos_usuario_2 = int(input(\"Escribe tu edad\"))\n",
    "datos_usuario_3 = int(input(\"Escribe tu edad\"))"
   ]
  },
  {
   "cell_type": "code",
   "execution_count": 13,
   "metadata": {},
   "outputs": [
    {
     "name": "stdout",
     "output_type": "stream",
     "text": [
      "El usuario 1 es el más mayor\n",
      "El usuario 3 es el menor\n"
     ]
    }
   ],
   "source": [
    "if datos_usuario_3 < datos_usuario_1 > datos_usuario_2:\n",
    "    print(\"El usuario 1 es el más mayor\")\n",
    "    if datos_usuario_2 > datos_usuario_3:\n",
    "        print(\"El usuario 3 es el menor\")\n",
    "    else:\n",
    "        print(\"El usuario 2 es el menor\")\n",
    "elif datos_usuario_3 < datos_usuario_2 > datos_usuario_1:\n",
    "    print(\"El usuario 2 es el más mayor\")\n",
    "    if datos_usuario_1 > datos_usuario_3:\n",
    "        print(\"El usuario 3 es el menor\")\n",
    "    else:\n",
    "        print(\"El usuario 1 es el menor\")\n",
    "else:\n",
    "    print(\"El usuario 3 es el más mayor\")\n",
    "    if datos_usuario_2 > datos_usuario_1:\n",
    "        print(\"El usuario 1 es el menor\")\n",
    "    else:\n",
    "        print(\"El usuario 2 es el menor\")"
   ]
  },
  {
   "attachments": {},
   "cell_type": "markdown",
   "metadata": {},
   "source": [
    "Escribid un programa que pregunte el nombre del usuario a través de la función input(). Si el nombre es \"Bond\" haced que imprima \"Bienvenido a bordo de 007\". En caso contrario haced que imprima \"Buenos días NOMBRE\". "
   ]
  },
  {
   "cell_type": "code",
   "execution_count": 7,
   "metadata": {},
   "outputs": [
    {
     "name": "stdout",
     "output_type": "stream",
     "text": [
      "Buenos días MARIA\n"
     ]
    }
   ],
   "source": [
    "nombre = input(\"Escriba su nombre\")\n",
    "\n",
    "if nombre == \"Bond\":\n",
    "    print(\"Bienvenido a bordo de 007\")\n",
    "else:\n",
    "    print(\"Buenos días\", nombre.upper())"
   ]
  },
  {
   "attachments": {},
   "cell_type": "markdown",
   "metadata": {},
   "source": [
    "Crea una lista llamada \"masarboles\" que contenga el nombre de los países con más de 40.000 árboles por kilómetro cuadrado."
   ]
  },
  {
   "cell_type": "code",
   "execution_count": 18,
   "metadata": {},
   "outputs": [],
   "source": [
    "arbol = {\"Taiwan\": 69593,\n",
    "        \"Japan\": 49894, \n",
    "        \"Russia\": 41396, \n",
    "        \"Canada\": 36388, \n",
    "        \"Bulgaria\": 24987}\n",
    "\n",
    "masarboles = []"
   ]
  },
  {
   "cell_type": "code",
   "execution_count": 10,
   "metadata": {},
   "outputs": [
    {
     "data": {
      "text/plain": [
       "['Taiwan', 'Japan', 'Russia']"
      ]
     },
     "execution_count": 10,
     "metadata": {},
     "output_type": "execute_result"
    }
   ],
   "source": [
    "if arbol.get(\"Taiwan\")> 40000:\n",
    "    masarboles.append(\"Taiwan\")\n",
    "if arbol.get(\"Japan\") > 40000:\n",
    "    masarboles.append(\"Japan\")\n",
    "if arbol.get(\"Russia\") > 40000:\n",
    "    masarboles.append(\"Russia\")\n",
    "if arbol.get(\"Canada\") > 40000:\n",
    "    masarboles.append(\"Canada\")\n",
    "if arbol.get(\"Bulgaria\")> 40000:\n",
    "    masarboles.append(\"Bulgaria\")\n",
    "\n",
    "masarboles"
   ]
  },
  {
   "attachments": {},
   "cell_type": "markdown",
   "metadata": {},
   "source": [
    "Escribid un programa que pregunte al usuario su nombre y sexo, y muestre por pantalla el grupo que le corresponde."
   ]
  },
  {
   "cell_type": "code",
   "execution_count": 8,
   "metadata": {},
   "outputs": [
    {
     "name": "stdout",
     "output_type": "stream",
     "text": [
      "Grupo B\n"
     ]
    }
   ],
   "source": [
    "sexo = input(\"Itroduce tu sexo F (Mujer) M (Masculino)\")\n",
    "nombre = input(\"Introduce tu nombre\")\n",
    "if sexo == \"F\" and nombre < \"M\":\n",
    "    print(\"Grupo A\")\n",
    "elif sexo == \"M\" and nombre > \"N\":\n",
    "    print(\"Grupo A\")\n",
    "else:\n",
    "    print(\"Grupo B\")"
   ]
  },
  {
   "attachments": {},
   "cell_type": "markdown",
   "metadata": {},
   "source": [
    "Escribid un programa que:"
   ]
  },
  {
   "cell_type": "code",
   "execution_count": 22,
   "metadata": {},
   "outputs": [
    {
     "name": "stdout",
     "output_type": "stream",
     "text": [
      "0\n",
      "1\n",
      "2\n",
      "[0, 1]\n"
     ]
    }
   ],
   "source": [
    "z = 0\n",
    "lista_auxiliar = []\n",
    "\n",
    "while z < 3:\n",
    "    if z == 0:\n",
    "        print(z)\n",
    "        lista_auxiliar.append(z)\n",
    "        z += 1\n",
    "    elif z == 1:\n",
    "        print(z)\n",
    "        lista_auxiliar.append(z)\n",
    "        z += 1\n",
    "    else:\n",
    "        print(z)\n",
    "        z += 1\n",
    "\n",
    "print(lista_auxiliar)\n"
   ]
  }
 ],
 "metadata": {
  "kernelspec": {
   "display_name": "base",
   "language": "python",
   "name": "python3"
  },
  "language_info": {
   "codemirror_mode": {
    "name": "ipython",
    "version": 3
   },
   "file_extension": ".py",
   "mimetype": "text/x-python",
   "name": "python",
   "nbconvert_exporter": "python",
   "pygments_lexer": "ipython3",
   "version": "3.9.7"
  },
  "orig_nbformat": 4
 },
 "nbformat": 4,
 "nbformat_minor": 2
}
