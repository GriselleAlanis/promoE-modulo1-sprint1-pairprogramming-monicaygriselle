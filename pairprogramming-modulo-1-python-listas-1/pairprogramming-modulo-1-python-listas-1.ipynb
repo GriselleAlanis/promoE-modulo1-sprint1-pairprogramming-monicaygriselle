{
 "cells": [
  {
   "attachments": {},
   "cell_type": "markdown",
   "metadata": {},
   "source": [
    "Usando la función input, cread un programa que pregunte al usuario por el nombre de tres amig@s."
   ]
  },
  {
   "cell_type": "code",
   "execution_count": 25,
   "metadata": {},
   "outputs": [],
   "source": [
    "nombres = input(\"Escribe el nombre de tres amigos\")"
   ]
  },
  {
   "attachments": {},
   "cell_type": "markdown",
   "metadata": {},
   "source": [
    "Almacenad los resultados del paso anterior en una lista."
   ]
  },
  {
   "cell_type": "code",
   "execution_count": 26,
   "metadata": {},
   "outputs": [
    {
     "name": "stdout",
     "output_type": "stream",
     "text": [
      "['monica', 'jorge', 'pepi']\n"
     ]
    }
   ],
   "source": [
    "lista_nombres = nombres.split(\",\")\n",
    "print(lista_nombres)"
   ]
  },
  {
   "attachments": {},
   "cell_type": "markdown",
   "metadata": {},
   "source": [
    "Usando la función input, cread un programa que ahora le pregunte al usuario por las alturas de sus amig@s. Y almacenar los resultados en una lista."
   ]
  },
  {
   "cell_type": "code",
   "execution_count": 27,
   "metadata": {},
   "outputs": [],
   "source": [
    "alturas = input(\"Escribe la altura de tres amigos\")\n",
    "lista_alturas = alturas.split(\",\")\n",
    "lista_alturas = [float(i) for i in lista_alturas]\n",
    "lista_nombres = [i.strip() for i in lista_nombres]"
   ]
  },
  {
   "attachments": {},
   "cell_type": "markdown",
   "metadata": {},
   "source": [
    "Ordenad las dos listas de mayor a menor. ¿Lo podréis hacer para la lista de nombres?"
   ]
  },
  {
   "cell_type": "code",
   "execution_count": 28,
   "metadata": {},
   "outputs": [
    {
     "name": "stdout",
     "output_type": "stream",
     "text": [
      "['pepi', 'monica', 'jorge']\n",
      "[1.92, 1.7, 1.67]\n"
     ]
    }
   ],
   "source": [
    "lista_nombres.sort(reverse = True)\n",
    "lista_alturas.sort(reverse = True)\n",
    "print(lista_nombres)\n",
    "print(lista_alturas)"
   ]
  },
  {
   "attachments": {},
   "cell_type": "markdown",
   "metadata": {},
   "source": [
    "Sí se puede hacer con la lista de nombres ya que los ordena por orden alfabético inverso."
   ]
  },
  {
   "attachments": {},
   "cell_type": "markdown",
   "metadata": {},
   "source": [
    "¿Cuál es la altura máxima de todos nuestros amig@s?"
   ]
  },
  {
   "cell_type": "code",
   "execution_count": 29,
   "metadata": {},
   "outputs": [
    {
     "name": "stdout",
     "output_type": "stream",
     "text": [
      "1.92\n"
     ]
    }
   ],
   "source": [
    "alt_max = max(lista_alturas)\n",
    "print(alt_max)"
   ]
  },
  {
   "attachments": {},
   "cell_type": "markdown",
   "metadata": {},
   "source": [
    "¿Y la mínima?"
   ]
  },
  {
   "cell_type": "code",
   "execution_count": 30,
   "metadata": {},
   "outputs": [
    {
     "name": "stdout",
     "output_type": "stream",
     "text": [
      "1.67\n"
     ]
    }
   ],
   "source": [
    "alt_min = min(lista_alturas)\n",
    "print(alt_min)"
   ]
  },
  {
   "attachments": {},
   "cell_type": "markdown",
   "metadata": {},
   "source": [
    "Unid las dos listas de forma que consigamos el siguiente output. Almacenad los resultados en una nueva variable y llamadla lista_lista.\n",
    "\n",
    "Unid las dos listas de forma que consigamos el siguiente output. Almacenad los resultados en una nueva variable y llamadla lista_numeros."
   ]
  },
  {
   "cell_type": "code",
   "execution_count": 31,
   "metadata": {},
   "outputs": [
    {
     "name": "stdout",
     "output_type": "stream",
     "text": [
      "[[44, 55, 67, 44, 98, 29], [34, 56, 56, 78, 67, 56]]\n",
      "[44, 55, 67, 44, 98, 29, 34, 56, 56, 78, 67, 56]\n"
     ]
    }
   ],
   "source": [
    "lista1 = [44, 55, 67, 44, 98, 29]\n",
    "lista2 = [34, 56, 56, 78, 67, 56]\n",
    "\n",
    "lista_lista = [lista1 , lista2]\n",
    "print(lista_lista)\n",
    "\n",
    "lista_numeros = lista1 + lista2\n",
    "print(lista_numeros)"
   ]
  },
  {
   "attachments": {},
   "cell_type": "markdown",
   "metadata": {},
   "source": [
    "De la lista lista_lista, ¿cuántas veces aparece el número 67? ¿y en la lista lista_numeros.\n",
    "Justificad por qué salen números diferentes."
   ]
  },
  {
   "cell_type": "code",
   "execution_count": 32,
   "metadata": {},
   "outputs": [
    {
     "name": "stdout",
     "output_type": "stream",
     "text": [
      "0\n",
      "2\n"
     ]
    }
   ],
   "source": [
    "print(lista_lista.count(67))\n",
    "print(lista_numeros.count(67))"
   ]
  },
  {
   "attachments": {},
   "cell_type": "markdown",
   "metadata": {},
   "source": [
    "Salen números diferentes porque en el caso de lista_lista tenemos dos listas dentro de ella, por lo que al intentar buscar un número no lo encuentra. Sin embargo en el otro caso hemos juntado las dos listas en una por lo que al buscar el número sí lo van a encontrar."
   ]
  },
  {
   "attachments": {},
   "cell_type": "markdown",
   "metadata": {},
   "source": [
    "Usando la lista_numeros, dadle la vuelta a la lista."
   ]
  },
  {
   "cell_type": "code",
   "execution_count": 33,
   "metadata": {},
   "outputs": [
    {
     "name": "stdout",
     "output_type": "stream",
     "text": [
      "[56, 67, 78, 56, 56, 34, 29, 98, 44, 67, 55, 44]\n"
     ]
    }
   ],
   "source": [
    "lista_numeros.reverse()\n",
    "print(lista_numeros)"
   ]
  }
 ],
 "metadata": {
  "kernelspec": {
   "display_name": "base",
   "language": "python",
   "name": "python3"
  },
  "language_info": {
   "codemirror_mode": {
    "name": "ipython",
    "version": 3
   },
   "file_extension": ".py",
   "mimetype": "text/x-python",
   "name": "python",
   "nbconvert_exporter": "python",
   "pygments_lexer": "ipython3",
   "version": "3.9.7"
  },
  "orig_nbformat": 4
 },
 "nbformat": 4,
 "nbformat_minor": 2
}
